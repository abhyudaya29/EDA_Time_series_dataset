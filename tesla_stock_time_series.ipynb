{
 "cells": [
  {
   "cell_type": "markdown",
   "id": "516ae36f",
   "metadata": {},
   "source": [
    "\n",
    "# EDA on time series dataset"
   ]
  },
  {
   "cell_type": "code",
   "execution_count": 27,
   "id": "69deae81",
   "metadata": {},
   "outputs": [],
   "source": [
    "import pandas as pd\n",
    "import numpy as np\n",
    "import matplotlib.pyplot as plt\n",
    "import seaborn as sns\n",
    "%matplotlib inline\n",
    "from datetime import datetime\n",
    "import pandas_datareader as pdr"
   ]
  },
  {
   "cell_type": "code",
   "execution_count": 26,
   "id": "0b5a923c",
   "metadata": {},
   "outputs": [
    {
     "name": "stdout",
     "output_type": "stream",
     "text": [
      "Requirement already satisfied: pandas_datareader in c:\\users\\abhyd\\anaconda3\\lib\\site-packages (0.10.0)\n",
      "Requirement already satisfied: pandas>=0.23 in c:\\users\\abhyd\\anaconda3\\lib\\site-packages (from pandas_datareader) (1.3.4)\n",
      "Requirement already satisfied: requests>=2.19.0 in c:\\users\\abhyd\\anaconda3\\lib\\site-packages (from pandas_datareader) (2.26.0)\n",
      "Requirement already satisfied: lxml in c:\\users\\abhyd\\anaconda3\\lib\\site-packages (from pandas_datareader) (4.6.3)\n",
      "Requirement already satisfied: pytz>=2017.3 in c:\\users\\abhyd\\anaconda3\\lib\\site-packages (from pandas>=0.23->pandas_datareader) (2021.3)\n",
      "Requirement already satisfied: python-dateutil>=2.7.3 in c:\\users\\abhyd\\anaconda3\\lib\\site-packages (from pandas>=0.23->pandas_datareader) (2.8.2)\n",
      "Requirement already satisfied: numpy>=1.17.3 in c:\\users\\abhyd\\anaconda3\\lib\\site-packages (from pandas>=0.23->pandas_datareader) (1.20.3)\n",
      "Requirement already satisfied: six>=1.5 in c:\\users\\abhyd\\anaconda3\\lib\\site-packages (from python-dateutil>=2.7.3->pandas>=0.23->pandas_datareader) (1.16.0)\n",
      "Requirement already satisfied: idna<4,>=2.5 in c:\\users\\abhyd\\anaconda3\\lib\\site-packages (from requests>=2.19.0->pandas_datareader) (3.2)\n",
      "Requirement already satisfied: charset-normalizer~=2.0.0 in c:\\users\\abhyd\\anaconda3\\lib\\site-packages (from requests>=2.19.0->pandas_datareader) (2.0.4)\n",
      "Requirement already satisfied: certifi>=2017.4.17 in c:\\users\\abhyd\\anaconda3\\lib\\site-packages (from requests>=2.19.0->pandas_datareader) (2022.9.14)\n",
      "Requirement already satisfied: urllib3<1.27,>=1.21.1 in c:\\users\\abhyd\\anaconda3\\lib\\site-packages (from requests>=2.19.0->pandas_datareader) (1.26.7)\n"
     ]
    }
   ],
   "source": [
    "!pip install pandas_datareader"
   ]
  },
  {
   "cell_type": "code",
   "execution_count": 31,
   "id": "668b2e6c",
   "metadata": {},
   "outputs": [],
   "source": [
    "df=pd.read_csv(\"TSLA.csv\",index_col='Date',parse_dates=True)"
   ]
  },
  {
   "cell_type": "code",
   "execution_count": null,
   "id": "b561b3f0",
   "metadata": {},
   "outputs": [],
   "source": []
  },
  {
   "cell_type": "code",
   "execution_count": 32,
   "id": "7d019237",
   "metadata": {},
   "outputs": [
    {
     "data": {
      "text/html": [
       "<div>\n",
       "<style scoped>\n",
       "    .dataframe tbody tr th:only-of-type {\n",
       "        vertical-align: middle;\n",
       "    }\n",
       "\n",
       "    .dataframe tbody tr th {\n",
       "        vertical-align: top;\n",
       "    }\n",
       "\n",
       "    .dataframe thead th {\n",
       "        text-align: right;\n",
       "    }\n",
       "</style>\n",
       "<table border=\"1\" class=\"dataframe\">\n",
       "  <thead>\n",
       "    <tr style=\"text-align: right;\">\n",
       "      <th></th>\n",
       "      <th>Open</th>\n",
       "      <th>High</th>\n",
       "      <th>Low</th>\n",
       "      <th>Close</th>\n",
       "      <th>Adj Close</th>\n",
       "      <th>Volume</th>\n",
       "    </tr>\n",
       "    <tr>\n",
       "      <th>Date</th>\n",
       "      <th></th>\n",
       "      <th></th>\n",
       "      <th></th>\n",
       "      <th></th>\n",
       "      <th></th>\n",
       "      <th></th>\n",
       "    </tr>\n",
       "  </thead>\n",
       "  <tbody>\n",
       "    <tr>\n",
       "      <th>2022-02-22</th>\n",
       "      <td>278.043335</td>\n",
       "      <td>285.576660</td>\n",
       "      <td>267.033325</td>\n",
       "      <td>273.843323</td>\n",
       "      <td>273.843323</td>\n",
       "      <td>83288100</td>\n",
       "    </tr>\n",
       "    <tr>\n",
       "      <th>2022-02-23</th>\n",
       "      <td>276.809998</td>\n",
       "      <td>278.433319</td>\n",
       "      <td>253.520004</td>\n",
       "      <td>254.679993</td>\n",
       "      <td>254.679993</td>\n",
       "      <td>95256900</td>\n",
       "    </tr>\n",
       "    <tr>\n",
       "      <th>2022-02-24</th>\n",
       "      <td>233.463333</td>\n",
       "      <td>267.493347</td>\n",
       "      <td>233.333328</td>\n",
       "      <td>266.923340</td>\n",
       "      <td>266.923340</td>\n",
       "      <td>135322200</td>\n",
       "    </tr>\n",
       "    <tr>\n",
       "      <th>2022-02-25</th>\n",
       "      <td>269.743347</td>\n",
       "      <td>273.166656</td>\n",
       "      <td>260.799988</td>\n",
       "      <td>269.956665</td>\n",
       "      <td>269.956665</td>\n",
       "      <td>76067700</td>\n",
       "    </tr>\n",
       "    <tr>\n",
       "      <th>2022-02-28</th>\n",
       "      <td>271.670013</td>\n",
       "      <td>292.286682</td>\n",
       "      <td>271.570007</td>\n",
       "      <td>290.143341</td>\n",
       "      <td>290.143341</td>\n",
       "      <td>99006900</td>\n",
       "    </tr>\n",
       "  </tbody>\n",
       "</table>\n",
       "</div>"
      ],
      "text/plain": [
       "                  Open        High         Low       Close   Adj Close  \\\n",
       "Date                                                                     \n",
       "2022-02-22  278.043335  285.576660  267.033325  273.843323  273.843323   \n",
       "2022-02-23  276.809998  278.433319  253.520004  254.679993  254.679993   \n",
       "2022-02-24  233.463333  267.493347  233.333328  266.923340  266.923340   \n",
       "2022-02-25  269.743347  273.166656  260.799988  269.956665  269.956665   \n",
       "2022-02-28  271.670013  292.286682  271.570007  290.143341  290.143341   \n",
       "\n",
       "               Volume  \n",
       "Date                   \n",
       "2022-02-22   83288100  \n",
       "2022-02-23   95256900  \n",
       "2022-02-24  135322200  \n",
       "2022-02-25   76067700  \n",
       "2022-02-28   99006900  "
      ]
     },
     "execution_count": 32,
     "metadata": {},
     "output_type": "execute_result"
    }
   ],
   "source": [
    "df.head()"
   ]
  },
  {
   "cell_type": "code",
   "execution_count": 33,
   "id": "8a73bea7",
   "metadata": {},
   "outputs": [
    {
     "data": {
      "text/html": [
       "<div>\n",
       "<style scoped>\n",
       "    .dataframe tbody tr th:only-of-type {\n",
       "        vertical-align: middle;\n",
       "    }\n",
       "\n",
       "    .dataframe tbody tr th {\n",
       "        vertical-align: top;\n",
       "    }\n",
       "\n",
       "    .dataframe thead th {\n",
       "        text-align: right;\n",
       "    }\n",
       "</style>\n",
       "<table border=\"1\" class=\"dataframe\">\n",
       "  <thead>\n",
       "    <tr style=\"text-align: right;\">\n",
       "      <th></th>\n",
       "      <th>Open</th>\n",
       "      <th>High</th>\n",
       "      <th>Low</th>\n",
       "      <th>Close</th>\n",
       "      <th>Adj Close</th>\n",
       "      <th>Volume</th>\n",
       "    </tr>\n",
       "    <tr>\n",
       "      <th>Date</th>\n",
       "      <th></th>\n",
       "      <th></th>\n",
       "      <th></th>\n",
       "      <th></th>\n",
       "      <th></th>\n",
       "      <th></th>\n",
       "    </tr>\n",
       "  </thead>\n",
       "  <tbody>\n",
       "    <tr>\n",
       "      <th>2023-02-13</th>\n",
       "      <td>194.419998</td>\n",
       "      <td>196.300003</td>\n",
       "      <td>187.610001</td>\n",
       "      <td>194.639999</td>\n",
       "      <td>194.639999</td>\n",
       "      <td>172475500</td>\n",
       "    </tr>\n",
       "    <tr>\n",
       "      <th>2023-02-14</th>\n",
       "      <td>191.940002</td>\n",
       "      <td>209.820007</td>\n",
       "      <td>189.440002</td>\n",
       "      <td>209.250000</td>\n",
       "      <td>209.250000</td>\n",
       "      <td>216455700</td>\n",
       "    </tr>\n",
       "    <tr>\n",
       "      <th>2023-02-15</th>\n",
       "      <td>211.759995</td>\n",
       "      <td>214.660004</td>\n",
       "      <td>206.110001</td>\n",
       "      <td>214.240005</td>\n",
       "      <td>214.240005</td>\n",
       "      <td>182108600</td>\n",
       "    </tr>\n",
       "    <tr>\n",
       "      <th>2023-02-16</th>\n",
       "      <td>210.779999</td>\n",
       "      <td>217.649994</td>\n",
       "      <td>201.839996</td>\n",
       "      <td>202.039993</td>\n",
       "      <td>202.039993</td>\n",
       "      <td>229586500</td>\n",
       "    </tr>\n",
       "    <tr>\n",
       "      <th>2023-02-17</th>\n",
       "      <td>199.990005</td>\n",
       "      <td>208.440002</td>\n",
       "      <td>197.500000</td>\n",
       "      <td>208.309998</td>\n",
       "      <td>208.309998</td>\n",
       "      <td>213080200</td>\n",
       "    </tr>\n",
       "  </tbody>\n",
       "</table>\n",
       "</div>"
      ],
      "text/plain": [
       "                  Open        High         Low       Close   Adj Close  \\\n",
       "Date                                                                     \n",
       "2023-02-13  194.419998  196.300003  187.610001  194.639999  194.639999   \n",
       "2023-02-14  191.940002  209.820007  189.440002  209.250000  209.250000   \n",
       "2023-02-15  211.759995  214.660004  206.110001  214.240005  214.240005   \n",
       "2023-02-16  210.779999  217.649994  201.839996  202.039993  202.039993   \n",
       "2023-02-17  199.990005  208.440002  197.500000  208.309998  208.309998   \n",
       "\n",
       "               Volume  \n",
       "Date                   \n",
       "2023-02-13  172475500  \n",
       "2023-02-14  216455700  \n",
       "2023-02-15  182108600  \n",
       "2023-02-16  229586500  \n",
       "2023-02-17  213080200  "
      ]
     },
     "execution_count": 33,
     "metadata": {},
     "output_type": "execute_result"
    }
   ],
   "source": [
    "df.tail()"
   ]
  },
  {
   "cell_type": "code",
   "execution_count": 34,
   "id": "c7cabc01",
   "metadata": {},
   "outputs": [
    {
     "data": {
      "text/plain": [
       "<AxesSubplot:xlabel='Date'>"
      ]
     },
     "execution_count": 34,
     "metadata": {},
     "output_type": "execute_result"
    },
    {
     "data": {
      "image/png": "[encoded data removed]",
      "text/plain": [
       "<Figure size 864x360 with 1 Axes>"
      ]
     },
     "metadata": {
      "needs_background": "light"
     },
     "output_type": "display_data"
    }
   ],
   "source": [
    "df['High'].plot(figsize=(12,5))"
   ]
  },
  {
   "cell_type": "code",
   "execution_count": null,
   "id": "750178d9",
   "metadata": {},
   "outputs": [],
   "source": []
  },
  {
   "cell_type": "code",
   "execution_count": 43,
   "id": "d610dcc7",
   "metadata": {},
   "outputs": [
    {
     "data": {
      "text/plain": [
       "<AxesSubplot:xlabel='Date'>"
      ]
     },
     "execution_count": 43,
     "metadata": {},
     "output_type": "execute_result"
    },
    {
     "data": {
      "image/png": "[encoded data removed]",
      "text/plain": [
       "<Figure size 864x288 with 1 Axes>"
      ]
     },
     "metadata": {
      "needs_background": "light"
     },
     "output_type": "display_data"
    }
   ],
   "source": [
    "## plotting x and y limit\n",
    "\n",
    "df[ 'High'].plot(xlim= ['2022-03-01', '2023-05-30 '], ylim= [0, 800], figsize=(12,4),c='green',ls='--')"
   ]
  },
  {
   "cell_type": "code",
   "execution_count": 45,
   "id": "d02a7e50",
   "metadata": {},
   "outputs": [
    {
     "data": {
      "text/plain": [
       "DatetimeIndex(['2022-02-22', '2022-02-23', '2022-02-24', '2022-02-25',\n",
       "               '2022-02-28', '2022-03-01', '2022-03-02', '2022-03-03',\n",
       "               '2022-03-04', '2022-03-07',\n",
       "               ...\n",
       "               '2023-02-06', '2023-02-07', '2023-02-08', '2023-02-09',\n",
       "               '2023-02-10', '2023-02-13', '2023-02-14', '2023-02-15',\n",
       "               '2023-02-16', '2023-02-17'],\n",
       "              dtype='datetime64[ns]', name='Date', length=250, freq=None)"
      ]
     },
     "execution_count": 45,
     "metadata": {},
     "output_type": "execute_result"
    }
   ],
   "source": [
    "df.index"
   ]
  },
  {
   "cell_type": "code",
   "execution_count": 51,
   "id": "ee71ef67",
   "metadata": {},
   "outputs": [],
   "source": [
    "index=df.loc['2022-03-01':'2023-05-30'].index\n",
    "share_open=df.loc['2022-03-01':'2023-05-30']['Open']"
   ]
  },
  {
   "cell_type": "code",
   "execution_count": 52,
   "id": "6059be6e",
   "metadata": {},
   "outputs": [
    {
     "data": {
      "text/plain": [
       "Date\n",
       "2022-03-01    289.893341\n",
       "2022-03-02    290.709991\n",
       "2022-03-03    292.923340\n",
       "2022-03-04    283.033325\n",
       "2022-03-07    285.433319\n",
       "                 ...    \n",
       "2023-02-13    194.419998\n",
       "2023-02-14    191.940002\n",
       "2023-02-15    211.759995\n",
       "2023-02-16    210.779999\n",
       "2023-02-17    199.990005\n",
       "Name: Open, Length: 245, dtype: float64"
      ]
     },
     "execution_count": 52,
     "metadata": {},
     "output_type": "execute_result"
    }
   ],
   "source": [
    "share_open"
   ]
  },
  {
   "cell_type": "code",
   "execution_count": 54,
   "id": "c73bcdbc",
   "metadata": {},
   "outputs": [
    {
     "data": {
      "text/plain": [
       "[<matplotlib.lines.Line2D at 0x1ac733bad90>]"
      ]
     },
     "execution_count": 54,
     "metadata": {},
     "output_type": "execute_result"
    },
    {
     "data": {
      "image/png": "[encoded data removed]",
      "text/plain": [
       "<Figure size 432x288 with 1 Axes>"
      ]
     },
     "metadata": {
      "needs_background": "light"
     },
     "output_type": "display_data"
    }
   ],
   "source": [
    "figure,axis=plt.subplots()\n",
    "axis.plot(index,share_open)"
   ]
  },
  {
   "cell_type": "code",
   "execution_count": 55,
   "id": "9e777258",
   "metadata": {},
   "outputs": [],
   "source": [
    "##Date time index"
   ]
  },
  {
   "cell_type": "code",
   "execution_count": 58,
   "id": "458cd037",
   "metadata": {},
   "outputs": [],
   "source": [
    "df=df.reset_index()"
   ]
  },
  {
   "cell_type": "code",
   "execution_count": 59,
   "id": "705ec4f6",
   "metadata": {},
   "outputs": [
    {
     "name": "stdout",
     "output_type": "stream",
     "text": [
      "<class 'pandas.core.frame.DataFrame'>\n",
      "RangeIndex: 250 entries, 0 to 249\n",
      "Data columns (total 7 columns):\n",
      " #   Column     Non-Null Count  Dtype         \n",
      "---  ------     --------------  -----         \n",
      " 0   Date       250 non-null    datetime64[ns]\n",
      " 1   Open       250 non-null    float64       \n",
      " 2   High       250 non-null    float64       \n",
      " 3   Low        250 non-null    float64       \n",
      " 4   Close      250 non-null    float64       \n",
      " 5   Adj Close  250 non-null    float64       \n",
      " 6   Volume     250 non-null    int64         \n",
      "dtypes: datetime64[ns](1), float64(5), int64(1)\n",
      "memory usage: 13.8 KB\n"
     ]
    }
   ],
   "source": [
    "df.info()"
   ]
  },
  {
   "cell_type": "code",
   "execution_count": 60,
   "id": "c4412a85",
   "metadata": {},
   "outputs": [
    {
     "data": {
      "text/plain": [
       "0     2022-02-22\n",
       "1     2022-02-23\n",
       "2     2022-02-24\n",
       "3     2022-02-25\n",
       "4     2022-02-28\n",
       "         ...    \n",
       "245   2023-02-13\n",
       "246   2023-02-14\n",
       "247   2023-02-15\n",
       "248   2023-02-16\n",
       "249   2023-02-17\n",
       "Name: Date, Length: 250, dtype: datetime64[ns]"
      ]
     },
     "execution_count": 60,
     "metadata": {},
     "output_type": "execute_result"
    }
   ],
   "source": [
    "pd.to_datetime(df['Date'])"
   ]
  },
  {
   "cell_type": "code",
   "execution_count": 64,
   "id": "d78f9c7b",
   "metadata": {},
   "outputs": [],
   "source": [
    "df=df.set_index('Date',drop=True)"
   ]
  },
  {
   "cell_type": "code",
   "execution_count": 65,
   "id": "44d43912",
   "metadata": {},
   "outputs": [
    {
     "data": {
      "text/html": [
       "<div>\n",
       "<style scoped>\n",
       "    .dataframe tbody tr th:only-of-type {\n",
       "        vertical-align: middle;\n",
       "    }\n",
       "\n",
       "    .dataframe tbody tr th {\n",
       "        vertical-align: top;\n",
       "    }\n",
       "\n",
       "    .dataframe thead th {\n",
       "        text-align: right;\n",
       "    }\n",
       "</style>\n",
       "<table border=\"1\" class=\"dataframe\">\n",
       "  <thead>\n",
       "    <tr style=\"text-align: right;\">\n",
       "      <th></th>\n",
       "      <th>Open</th>\n",
       "      <th>High</th>\n",
       "      <th>Low</th>\n",
       "      <th>Close</th>\n",
       "      <th>Adj Close</th>\n",
       "      <th>Volume</th>\n",
       "    </tr>\n",
       "    <tr>\n",
       "      <th>Date</th>\n",
       "      <th></th>\n",
       "      <th></th>\n",
       "      <th></th>\n",
       "      <th></th>\n",
       "      <th></th>\n",
       "      <th></th>\n",
       "    </tr>\n",
       "  </thead>\n",
       "  <tbody>\n",
       "    <tr>\n",
       "      <th>2022-02-22</th>\n",
       "      <td>278.043335</td>\n",
       "      <td>285.576660</td>\n",
       "      <td>267.033325</td>\n",
       "      <td>273.843323</td>\n",
       "      <td>273.843323</td>\n",
       "      <td>83288100</td>\n",
       "    </tr>\n",
       "    <tr>\n",
       "      <th>2022-02-23</th>\n",
       "      <td>276.809998</td>\n",
       "      <td>278.433319</td>\n",
       "      <td>253.520004</td>\n",
       "      <td>254.679993</td>\n",
       "      <td>254.679993</td>\n",
       "      <td>95256900</td>\n",
       "    </tr>\n",
       "    <tr>\n",
       "      <th>2022-02-24</th>\n",
       "      <td>233.463333</td>\n",
       "      <td>267.493347</td>\n",
       "      <td>233.333328</td>\n",
       "      <td>266.923340</td>\n",
       "      <td>266.923340</td>\n",
       "      <td>135322200</td>\n",
       "    </tr>\n",
       "    <tr>\n",
       "      <th>2022-02-25</th>\n",
       "      <td>269.743347</td>\n",
       "      <td>273.166656</td>\n",
       "      <td>260.799988</td>\n",
       "      <td>269.956665</td>\n",
       "      <td>269.956665</td>\n",
       "      <td>76067700</td>\n",
       "    </tr>\n",
       "    <tr>\n",
       "      <th>2022-02-28</th>\n",
       "      <td>271.670013</td>\n",
       "      <td>292.286682</td>\n",
       "      <td>271.570007</td>\n",
       "      <td>290.143341</td>\n",
       "      <td>290.143341</td>\n",
       "      <td>99006900</td>\n",
       "    </tr>\n",
       "  </tbody>\n",
       "</table>\n",
       "</div>"
      ],
      "text/plain": [
       "                  Open        High         Low       Close   Adj Close  \\\n",
       "Date                                                                     \n",
       "2022-02-22  278.043335  285.576660  267.033325  273.843323  273.843323   \n",
       "2022-02-23  276.809998  278.433319  253.520004  254.679993  254.679993   \n",
       "2022-02-24  233.463333  267.493347  233.333328  266.923340  266.923340   \n",
       "2022-02-25  269.743347  273.166656  260.799988  269.956665  269.956665   \n",
       "2022-02-28  271.670013  292.286682  271.570007  290.143341  290.143341   \n",
       "\n",
       "               Volume  \n",
       "Date                   \n",
       "2022-02-22   83288100  \n",
       "2022-02-23   95256900  \n",
       "2022-02-24  135322200  \n",
       "2022-02-25   76067700  \n",
       "2022-02-28   99006900  "
      ]
     },
     "execution_count": 65,
     "metadata": {},
     "output_type": "execute_result"
    }
   ],
   "source": [
    "df.head()"
   ]
  },
  {
   "cell_type": "code",
   "execution_count": 66,
   "id": "791a5c85",
   "metadata": {},
   "outputs": [],
   "source": [
    "## Time resampling"
   ]
  },
  {
   "cell_type": "code",
   "execution_count": 67,
   "id": "dcc5ba25",
   "metadata": {},
   "outputs": [
    {
     "data": {
      "text/html": [
       "<div>\n",
       "<style scoped>\n",
       "    .dataframe tbody tr th:only-of-type {\n",
       "        vertical-align: middle;\n",
       "    }\n",
       "\n",
       "    .dataframe tbody tr th {\n",
       "        vertical-align: top;\n",
       "    }\n",
       "\n",
       "    .dataframe thead th {\n",
       "        text-align: right;\n",
       "    }\n",
       "</style>\n",
       "<table border=\"1\" class=\"dataframe\">\n",
       "  <thead>\n",
       "    <tr style=\"text-align: right;\">\n",
       "      <th></th>\n",
       "      <th>Open</th>\n",
       "      <th>High</th>\n",
       "      <th>Low</th>\n",
       "      <th>Close</th>\n",
       "      <th>Adj Close</th>\n",
       "      <th>Volume</th>\n",
       "    </tr>\n",
       "    <tr>\n",
       "      <th>Date</th>\n",
       "      <th></th>\n",
       "      <th></th>\n",
       "      <th></th>\n",
       "      <th></th>\n",
       "      <th></th>\n",
       "      <th></th>\n",
       "    </tr>\n",
       "  </thead>\n",
       "  <tbody>\n",
       "    <tr>\n",
       "      <th>2022-02-22</th>\n",
       "      <td>278.043335</td>\n",
       "      <td>285.576660</td>\n",
       "      <td>267.033325</td>\n",
       "      <td>273.843323</td>\n",
       "      <td>273.843323</td>\n",
       "      <td>83288100</td>\n",
       "    </tr>\n",
       "    <tr>\n",
       "      <th>2022-02-23</th>\n",
       "      <td>276.809998</td>\n",
       "      <td>278.433319</td>\n",
       "      <td>253.520004</td>\n",
       "      <td>254.679993</td>\n",
       "      <td>254.679993</td>\n",
       "      <td>95256900</td>\n",
       "    </tr>\n",
       "    <tr>\n",
       "      <th>2022-02-24</th>\n",
       "      <td>233.463333</td>\n",
       "      <td>267.493347</td>\n",
       "      <td>233.333328</td>\n",
       "      <td>266.923340</td>\n",
       "      <td>266.923340</td>\n",
       "      <td>135322200</td>\n",
       "    </tr>\n",
       "    <tr>\n",
       "      <th>2022-02-25</th>\n",
       "      <td>269.743347</td>\n",
       "      <td>273.166656</td>\n",
       "      <td>260.799988</td>\n",
       "      <td>269.956665</td>\n",
       "      <td>269.956665</td>\n",
       "      <td>76067700</td>\n",
       "    </tr>\n",
       "    <tr>\n",
       "      <th>2022-02-28</th>\n",
       "      <td>271.670013</td>\n",
       "      <td>292.286682</td>\n",
       "      <td>271.570007</td>\n",
       "      <td>290.143341</td>\n",
       "      <td>290.143341</td>\n",
       "      <td>99006900</td>\n",
       "    </tr>\n",
       "  </tbody>\n",
       "</table>\n",
       "</div>"
      ],
      "text/plain": [
       "                  Open        High         Low       Close   Adj Close  \\\n",
       "Date                                                                     \n",
       "2022-02-22  278.043335  285.576660  267.033325  273.843323  273.843323   \n",
       "2022-02-23  276.809998  278.433319  253.520004  254.679993  254.679993   \n",
       "2022-02-24  233.463333  267.493347  233.333328  266.923340  266.923340   \n",
       "2022-02-25  269.743347  273.166656  260.799988  269.956665  269.956665   \n",
       "2022-02-28  271.670013  292.286682  271.570007  290.143341  290.143341   \n",
       "\n",
       "               Volume  \n",
       "Date                   \n",
       "2022-02-22   83288100  \n",
       "2022-02-23   95256900  \n",
       "2022-02-24  135322200  \n",
       "2022-02-25   76067700  \n",
       "2022-02-28   99006900  "
      ]
     },
     "execution_count": 67,
     "metadata": {},
     "output_type": "execute_result"
    }
   ],
   "source": [
    "df.head()"
   ]
  },
  {
   "cell_type": "code",
   "execution_count": 69,
   "id": "80443eb1",
   "metadata": {},
   "outputs": [
    {
     "data": {
      "text/html": [
       "<div>\n",
       "<style scoped>\n",
       "    .dataframe tbody tr th:only-of-type {\n",
       "        vertical-align: middle;\n",
       "    }\n",
       "\n",
       "    .dataframe tbody tr th {\n",
       "        vertical-align: top;\n",
       "    }\n",
       "\n",
       "    .dataframe thead th {\n",
       "        text-align: right;\n",
       "    }\n",
       "</style>\n",
       "<table border=\"1\" class=\"dataframe\">\n",
       "  <thead>\n",
       "    <tr style=\"text-align: right;\">\n",
       "      <th></th>\n",
       "      <th>Open</th>\n",
       "      <th>High</th>\n",
       "      <th>Low</th>\n",
       "      <th>Close</th>\n",
       "      <th>Adj Close</th>\n",
       "      <th>Volume</th>\n",
       "    </tr>\n",
       "    <tr>\n",
       "      <th>Date</th>\n",
       "      <th></th>\n",
       "      <th></th>\n",
       "      <th></th>\n",
       "      <th></th>\n",
       "      <th></th>\n",
       "      <th></th>\n",
       "    </tr>\n",
       "  </thead>\n",
       "  <tbody>\n",
       "    <tr>\n",
       "      <th>2022-12-31</th>\n",
       "      <td>110.349998</td>\n",
       "      <td>116.269997</td>\n",
       "      <td>108.239998</td>\n",
       "      <td>109.099998</td>\n",
       "      <td>109.099998</td>\n",
       "      <td>41864700</td>\n",
       "    </tr>\n",
       "    <tr>\n",
       "      <th>2023-12-31</th>\n",
       "      <td>103.000000</td>\n",
       "      <td>111.750000</td>\n",
       "      <td>101.809998</td>\n",
       "      <td>108.099998</td>\n",
       "      <td>108.099998</td>\n",
       "      <td>138429900</td>\n",
       "    </tr>\n",
       "  </tbody>\n",
       "</table>\n",
       "</div>"
      ],
      "text/plain": [
       "                  Open        High         Low       Close   Adj Close  \\\n",
       "Date                                                                     \n",
       "2022-12-31  110.349998  116.269997  108.239998  109.099998  109.099998   \n",
       "2023-12-31  103.000000  111.750000  101.809998  108.099998  108.099998   \n",
       "\n",
       "               Volume  \n",
       "Date                   \n",
       "2022-12-31   41864700  \n",
       "2023-12-31  138429900  "
      ]
     },
     "execution_count": 69,
     "metadata": {},
     "output_type": "execute_result"
    }
   ],
   "source": [
    "df.resample(rule='A').min()"
   ]
  },
  {
   "cell_type": "code",
   "execution_count": 70,
   "id": "7abd5020",
   "metadata": {},
   "outputs": [
    {
     "data": {
      "text/html": [
       "<div>\n",
       "<style scoped>\n",
       "    .dataframe tbody tr th:only-of-type {\n",
       "        vertical-align: middle;\n",
       "    }\n",
       "\n",
       "    .dataframe tbody tr th {\n",
       "        vertical-align: top;\n",
       "    }\n",
       "\n",
       "    .dataframe thead th {\n",
       "        text-align: right;\n",
       "    }\n",
       "</style>\n",
       "<table border=\"1\" class=\"dataframe\">\n",
       "  <thead>\n",
       "    <tr style=\"text-align: right;\">\n",
       "      <th></th>\n",
       "      <th>Open</th>\n",
       "      <th>High</th>\n",
       "      <th>Low</th>\n",
       "      <th>Close</th>\n",
       "      <th>Adj Close</th>\n",
       "      <th>Volume</th>\n",
       "    </tr>\n",
       "    <tr>\n",
       "      <th>Date</th>\n",
       "      <th></th>\n",
       "      <th></th>\n",
       "      <th></th>\n",
       "      <th></th>\n",
       "      <th></th>\n",
       "      <th></th>\n",
       "    </tr>\n",
       "  </thead>\n",
       "  <tbody>\n",
       "    <tr>\n",
       "      <th>2022-12-31</th>\n",
       "      <td>378.766663</td>\n",
       "      <td>384.290009</td>\n",
       "      <td>362.433319</td>\n",
       "      <td>381.816681</td>\n",
       "      <td>381.816681</td>\n",
       "      <td>221923300</td>\n",
       "    </tr>\n",
       "    <tr>\n",
       "      <th>2023-12-31</th>\n",
       "      <td>211.759995</td>\n",
       "      <td>217.649994</td>\n",
       "      <td>206.110001</td>\n",
       "      <td>214.240005</td>\n",
       "      <td>214.240005</td>\n",
       "      <td>305632100</td>\n",
       "    </tr>\n",
       "  </tbody>\n",
       "</table>\n",
       "</div>"
      ],
      "text/plain": [
       "                  Open        High         Low       Close   Adj Close  \\\n",
       "Date                                                                     \n",
       "2022-12-31  378.766663  384.290009  362.433319  381.816681  381.816681   \n",
       "2023-12-31  211.759995  217.649994  206.110001  214.240005  214.240005   \n",
       "\n",
       "               Volume  \n",
       "Date                   \n",
       "2022-12-31  221923300  \n",
       "2023-12-31  305632100  "
      ]
     },
     "execution_count": 70,
     "metadata": {},
     "output_type": "execute_result"
    }
   ],
   "source": [
    "df.resample(rule='A').max()"
   ]
  },
  {
   "cell_type": "code",
   "execution_count": 72,
   "id": "cd6c0602",
   "metadata": {},
   "outputs": [
    {
     "data": {
      "text/plain": [
       "<AxesSubplot:xlabel='Date'>"
      ]
     },
     "execution_count": 72,
     "metadata": {},
     "output_type": "execute_result"
    },
    {
     "data": {
      "image/png": "[encoded data removed]",
      "text/plain": [
       "<Figure size 432x288 with 1 Axes>"
      ]
     },
     "metadata": {
      "needs_background": "light"
     },
     "output_type": "display_data"
    }
   ],
   "source": [
    "## rule means yead end frequency\n",
    "df.resample(rule='A').max()['Open'].plot()"
   ]
  },
  {
   "cell_type": "code",
   "execution_count": 73,
   "id": "f7cad769",
   "metadata": {},
   "outputs": [
    {
     "data": {
      "text/html": [
       "<div>\n",
       "<style scoped>\n",
       "    .dataframe tbody tr th:only-of-type {\n",
       "        vertical-align: middle;\n",
       "    }\n",
       "\n",
       "    .dataframe tbody tr th {\n",
       "        vertical-align: top;\n",
       "    }\n",
       "\n",
       "    .dataframe thead th {\n",
       "        text-align: right;\n",
       "    }\n",
       "</style>\n",
       "<table border=\"1\" class=\"dataframe\">\n",
       "  <thead>\n",
       "    <tr style=\"text-align: right;\">\n",
       "      <th></th>\n",
       "      <th>Open</th>\n",
       "      <th>High</th>\n",
       "      <th>Low</th>\n",
       "      <th>Close</th>\n",
       "      <th>Adj Close</th>\n",
       "      <th>Volume</th>\n",
       "    </tr>\n",
       "    <tr>\n",
       "      <th>Date</th>\n",
       "      <th></th>\n",
       "      <th></th>\n",
       "      <th></th>\n",
       "      <th></th>\n",
       "      <th></th>\n",
       "      <th></th>\n",
       "    </tr>\n",
       "  </thead>\n",
       "  <tbody>\n",
       "    <tr>\n",
       "      <th>2022-01-01</th>\n",
       "      <td>369.329987</td>\n",
       "      <td>371.589996</td>\n",
       "      <td>361.333344</td>\n",
       "      <td>366.523346</td>\n",
       "      <td>366.523346</td>\n",
       "      <td>135322200</td>\n",
       "    </tr>\n",
       "    <tr>\n",
       "      <th>2022-04-01</th>\n",
       "      <td>378.766663</td>\n",
       "      <td>384.290009</td>\n",
       "      <td>362.433319</td>\n",
       "      <td>381.816681</td>\n",
       "      <td>381.816681</td>\n",
       "      <td>144973200</td>\n",
       "    </tr>\n",
       "    <tr>\n",
       "      <th>2022-07-01</th>\n",
       "      <td>311.666656</td>\n",
       "      <td>314.666656</td>\n",
       "      <td>305.579987</td>\n",
       "      <td>309.320007</td>\n",
       "      <td>309.320007</td>\n",
       "      <td>142032300</td>\n",
       "    </tr>\n",
       "    <tr>\n",
       "      <th>2022-10-01</th>\n",
       "      <td>254.500000</td>\n",
       "      <td>257.500000</td>\n",
       "      <td>242.009995</td>\n",
       "      <td>249.440002</td>\n",
       "      <td>249.440002</td>\n",
       "      <td>221923300</td>\n",
       "    </tr>\n",
       "    <tr>\n",
       "      <th>2023-01-01</th>\n",
       "      <td>211.759995</td>\n",
       "      <td>217.649994</td>\n",
       "      <td>206.110001</td>\n",
       "      <td>214.240005</td>\n",
       "      <td>214.240005</td>\n",
       "      <td>305632100</td>\n",
       "    </tr>\n",
       "  </tbody>\n",
       "</table>\n",
       "</div>"
      ],
      "text/plain": [
       "                  Open        High         Low       Close   Adj Close  \\\n",
       "Date                                                                     \n",
       "2022-01-01  369.329987  371.589996  361.333344  366.523346  366.523346   \n",
       "2022-04-01  378.766663  384.290009  362.433319  381.816681  381.816681   \n",
       "2022-07-01  311.666656  314.666656  305.579987  309.320007  309.320007   \n",
       "2022-10-01  254.500000  257.500000  242.009995  249.440002  249.440002   \n",
       "2023-01-01  211.759995  217.649994  206.110001  214.240005  214.240005   \n",
       "\n",
       "               Volume  \n",
       "Date                   \n",
       "2022-01-01  135322200  \n",
       "2022-04-01  144973200  \n",
       "2022-07-01  142032300  \n",
       "2022-10-01  221923300  \n",
       "2023-01-01  305632100  "
      ]
     },
     "execution_count": 73,
     "metadata": {},
     "output_type": "execute_result"
    }
   ],
   "source": [
    "df.resample(rule='QS').max()"
   ]
  },
  {
   "cell_type": "code",
   "execution_count": 75,
   "id": "9672c3bc",
   "metadata": {},
   "outputs": [
    {
     "data": {
      "text/plain": [
       "<AxesSubplot:xlabel='Date'>"
      ]
     },
     "execution_count": 75,
     "metadata": {},
     "output_type": "execute_result"
    },
    {
     "data": {
      "image/png": "[encoded data removed]",
      "text/plain": [
       "<Figure size 432x288 with 1 Axes>"
      ]
     },
     "metadata": {
      "needs_background": "light"
     },
     "output_type": "display_data"
    }
   ],
   "source": [
    "## quaterly\n",
    "df.resample(rule='QS').max()['High'].plot()"
   ]
  },
  {
   "cell_type": "code",
   "execution_count": 76,
   "id": "a60fc56e",
   "metadata": {},
   "outputs": [
    {
     "data": {
      "text/plain": [
       "<AxesSubplot:xlabel='Date'>"
      ]
     },
     "execution_count": 76,
     "metadata": {},
     "output_type": "execute_result"
    },
    {
     "data": {
      "image/png": "[encoded data removed]",
      "text/plain": [
       "<Figure size 432x288 with 1 Axes>"
      ]
     },
     "metadata": {
      "needs_background": "light"
     },
     "output_type": "display_data"
    }
   ],
   "source": [
    "## quaterly\n",
    "df.resample(rule='QS').max()['High'].plot(kind='bar')"
   ]
  },
  {
   "cell_type": "code",
   "execution_count": 80,
   "id": "4ed73494",
   "metadata": {},
   "outputs": [
    {
     "data": {
      "text/plain": [
       "<AxesSubplot:xlabel='Date'>"
      ]
     },
     "execution_count": 80,
     "metadata": {},
     "output_type": "execute_result"
    },
    {
     "data": {
      "image/png": "[encoded data removed]",
      "text/plain": [
       "<Figure size 864x360 with 1 Axes>"
      ]
     },
     "metadata": {
      "needs_background": "light"
     },
     "output_type": "display_data"
    }
   ],
   "source": [
    "df['Open'].resample(rule='M').max().plot(kind='bar',figsize=(12,5))"
   ]
  },
  {
   "cell_type": "code",
   "execution_count": null,
   "id": "15dd9fc7",
   "metadata": {},
   "outputs": [],
   "source": []
  }
 ],
 "metadata": {
  "kernelspec": {
   "display_name": "Python 3 (ipykernel)",
   "language": "python",
   "name": "python3"
  },
  "language_info": {
   "codemirror_mode": {
    "name": "ipython",
    "version": 3
   },
   "file_extension": ".py",
   "mimetype": "text/x-python",
   "name": "python",
   "nbconvert_exporter": "python",
   "pygments_lexer": "ipython3",
   "version": "3.9.7"
  }
 },
 "nbformat": 4,
 "nbformat_minor": 5
}
